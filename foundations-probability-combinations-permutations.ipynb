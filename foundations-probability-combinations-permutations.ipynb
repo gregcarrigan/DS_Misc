{
 "cells": [
  {
   "cell_type": "markdown",
   "metadata": {
    "slideshow": {
     "slide_type": "slide"
    }
   },
   "source": [
    "<img src=\"http://imgur.com/1ZcRyrc.png\" style=\"float: left; margin: 20px; height: 55px\">\n",
    "\n",
    "## Foundations of Probability, Combinations and Permutations\n",
    "\n",
    "_Authors: Joseph Nelson (DC), Kiefer Katovich (SF), Paul Martin (SF)_\n",
    "\n",
    "---\n",
    "\n",
    "\n",
    "### Lesson Guide\n",
    "\n",
    "- [Axioms of Probability](#probability_axioms)\n",
    "- [Properties of Probability](#probability_axioms)\n",
    "- [Counting Principle](#counting_principal)\n",
    "- [Permutations](#permutation)\n",
    "- [Combinations](#combination)\n",
    "- [Practice Problems with Counting, Permutations, and Combinations](#practice)\n",
    "- [Distinguishable and Indistinguishable](#distinguishable_indistinguishable)\n"
   ]
  },
  {
   "cell_type": "markdown",
   "metadata": {},
   "source": [
    "<a id='probability_axioms'></a>\n",
    "\n",
    "### Events and probabilities\n",
    "\n",
    "---\n",
    "\n",
    "Probabilities quantify the chance of an event happening. Take for example rolling a die. We know all of the possible outcomes of rolling the die, but we do not know ahead of time which outcome will occur. These types of events are referred to as **random events, random experiments, or random variables**. Probabilities are assigned to the possible outcomes of these random variables. \n",
    "\n",
    "We can represent probability formally using a **sample space**, an **event space**, and and a **probability function**.\n",
    "\n",
    "Our sample space, denoted with $S$, defines the set of _all possible outcomes_. \n",
    "\n",
    "The event space, denoted with $F$, defines the outcomes that are necessarily a subset of the sample space. \n",
    "\n",
    "The probability function, denoted $P$, returns an events probability which is constrained to the range between 0 and 1 inclusive:\n",
    "\n",
    "### $$ P(S, F) \\rightarrow [0, 1]$$\n"
   ]
  },
  {
   "cell_type": "markdown",
   "metadata": {
    "slideshow": {
     "slide_type": "slide"
    }
   },
   "source": [
    "### The Three Axioms of Probability\n",
    "\n",
    "---\n",
    "\n",
    "**Axiom 1: Nonnegativity**\n",
    "\n",
    "For any event $A$, the probability of the event must be greater than or equal to zero.\n",
    "\n",
    "### $$ 0 \\le P(A) $$\n",
    "\n",
    "In other words, probabilities must be non-negative, real numbers. \n",
    "\n",
    "**Axiom 2: Unit measure**\n",
    "\n",
    "The probability of the entire sample space is 1.\n",
    "\n",
    "### $$ P(S) = 1 $$\n",
    "\n",
    "From this axiom we define that the probability of all possible events, the sample space, must be equal to 1. This is sort of like saying the probability that _anything_ happens is 1. \n",
    "\n",
    "**Axiom 3: Additivity**\n",
    "\n",
    "For mutually exclusive, or in other words \"disjoint\" events $E$, the probability of any of the events occuring is equivalent to the sum of their probabilties.\n",
    "\n",
    "### $$ P\\left(\\cup_{i=1}^{\\infty}\\; E_i \\right) = \\sum_{i=1}^{\\infty} P(E_i) $$\n",
    "\n",
    "For example, say we have two events: \"cloudy\" and \"sunny\" that define outcomes for the weather for tomorrow. These events are mutually exclusive. If it is cloudy it necessarily cannot be sunny, and vice versa. To get the probability of _either_ of these events occuring we can sum their probabilities."
   ]
  },
  {
   "cell_type": "markdown",
   "metadata": {},
   "source": [
    "<a id='properties_probability'></a>\n",
    "\n",
    "### Properties of Probability\n",
    "\n",
    "---\n",
    "\n",
    "From the axioms outlined above, a variety of essential properties of probability can be derived. Many of these are outlined below.\n",
    "\n",
    "**The probability of no event**\n",
    "\n",
    "The probability of the empty set, denoted $\\emptyset$, is zero.\n",
    "\n",
    "### $$ P\\left(\\emptyset \\right) = 0 $$\n",
    "\n",
    "**The probability of A or B occuring (union)**\n",
    "\n",
    "The probability of event $A$ or event $B$ occuring is equivalent to the sum of their individual probabilities minus the intersection of their probabilities (the probability they both occur).\n",
    "\n",
    "### $$ P(A \\cup B) = P(A) + P(B) - P(A \\cap B)$$\n",
    "\n",
    "**Conditional probability**\n",
    "\n",
    "The probability of an event conditional on another event is written using a vertical bar between the two events. The probability of event $A$ occuring _given_ event $B$ occurs is calculated:\n",
    "\n",
    "### $$ P(A | B) = \\frac{P(A \\cap B)}{P(B)} $$\n",
    "\n",
    "Meaning the probability of both $A$ and $B$ occuring divided by the probability that $B$ occurs at all.\n",
    "\n",
    "**Joint probability**\n",
    "\n",
    "The joint probability of two events $A$ and $B$ is a reformulation of the above equation.\n",
    "\n",
    "### $$ P(A \\cap B) = P(A|B) \\; P(B) $$\n",
    "\n",
    "Verbally, if we want to know the probability that both $A$ and $B$ happen, we can multiply the probability that $B$ happens by the probability that $A$ happens given $B$ happens.\n",
    "\n",
    "**The law of total probability**\n",
    "\n",
    "Lets say we want to know the probability of the event $B$ occuring across _all_ different events $A$. For example, lets say that we are a judge presiding over a murder trial. $B$ is the event that the suspect's wallet was found at the scene of the murder. We could have many hypotheses or possible scenarios in which the wallet is found at the murder scene, one of which being that the suspect was actually at the scene of the crime at the time of the murder.\n",
    "\n",
    "These different events $A$, our scenarios, are disjoint. The _total probability_ of $B$ is the probability across all of these scenarios that the wallet is found at the murder scene. So in other words - regardless of which possible scenario $A$ - what is the probability overall that the wallet is at the murder scene?\n",
    "\n",
    "### $$ P(B) = \\sum_{i=1}^n P(B \\cap A_i) $$\n",
    "\n",
    "![total probability](./assets/images/output_27_0.png)"
   ]
  },
  {
   "cell_type": "markdown",
   "metadata": {
    "hide_input": false,
    "slideshow": {
     "slide_type": "slide"
    }
   },
   "source": [
    "<a id='counting_principle'></a>\n",
    "\n",
    "### The Counting Principle\n",
    "\n",
    "---\n",
    "\n",
    "The counting principal says that:\n",
    "\n",
    "If $A$ can occur in $n$ ways \n",
    "\n",
    "and $B$ can occur in $m$ ways\n",
    "\n",
    "then $A$ and $B$ can occur in $n * m$ ways.\n",
    "\n",
    "Counting is a fundamental component of probability. From counting we can start to examine combinations and permutations of events and their associated probabilties.\n"
   ]
  },
  {
   "cell_type": "markdown",
   "metadata": {
    "slideshow": {
     "slide_type": "fragment"
    }
   },
   "source": [
    "**Q: If you have two groups of students, 10 freshman and 11 sophmores, how many teams of 2 can be formed with one member from each class?**"
   ]
  },
  {
   "cell_type": "code",
   "execution_count": 1,
   "metadata": {
    "collapsed": false,
    "slideshow": {
     "slide_type": "fragment"
    }
   },
   "outputs": [],
   "source": [
    "# A:"
   ]
  },
  {
   "cell_type": "markdown",
   "metadata": {
    "slideshow": {
     "slide_type": "slide"
    }
   },
   "source": [
    "<a id='permutation'></a>\n",
    "\n",
    "### Permutations\n",
    "\n",
    "---\n",
    "\n",
    "A permutation is an arragement of objects where the order is important. The permutations of a set of items or events are the number of order-dependent arrangements that are possible.\n",
    "\n",
    "With a set of items of size $n$ and arrangements of length $k$, the permutations are calculated:\n",
    "\n",
    "### $$ \\text{permutations}(n, k) = n \\cdot (n - 1) \\cdot (n - 2) \\; ... \\; (n - k + 1)$$\n",
    "\n",
    "which is 0 when $k > n$"
   ]
  },
  {
   "cell_type": "markdown",
   "metadata": {
    "slideshow": {
     "slide_type": "fragment"
    }
   },
   "source": [
    "**Q: There are 5 qualified candidates to fill 3 positions.  How many ways can the roles be filled assuming 1 person per position?**"
   ]
  },
  {
   "cell_type": "code",
   "execution_count": 2,
   "metadata": {
    "collapsed": false,
    "slideshow": {
     "slide_type": "fragment"
    }
   },
   "outputs": [],
   "source": [
    "# A:"
   ]
  },
  {
   "cell_type": "markdown",
   "metadata": {
    "slideshow": {
     "slide_type": "slide"
    }
   },
   "source": [
    "### The factorial function\n",
    "\n",
    "---\n",
    "\n",
    "The factorial function is defined as \n",
    "\n",
    "### $$ n! = n \\cdot (n-1) \\cdot (n-2) \\; ... \\; (1) $$\n",
    "\n",
    "and is an important part of permutations. When $n = k$, permutations of $n$ in $k$ arrangements is equivalent to $n!$\n",
    "\n",
    "The permutation function can be rewritten using factorials:\n",
    "\n",
    "### $$  \\text{permutations}(n, k) = \\frac{n!}{(n-k)!} $$"
   ]
  },
  {
   "cell_type": "markdown",
   "metadata": {
    "slideshow": {
     "slide_type": "fragment"
    }
   },
   "source": [
    "**Q: If there are 9 players on a baseball team, how many possibilities are there for the first 3 players in the batting lineup?**"
   ]
  },
  {
   "cell_type": "code",
   "execution_count": 5,
   "metadata": {
    "collapsed": false,
    "slideshow": {
     "slide_type": "fragment"
    }
   },
   "outputs": [
    {
     "name": "stdout",
     "output_type": "stream",
     "text": [
      "504.0\n"
     ]
    }
   ],
   "source": [
    "# A: Answer is 9 * 8 * 7, or 9! / 6!\n",
    "from math import factorial\n",
    "print (factorial(9) / factorial(6))"
   ]
  },
  {
   "cell_type": "markdown",
   "metadata": {
    "slideshow": {
     "slide_type": "slide"
    }
   },
   "source": [
    "**Q: Code the factorial function.**\n",
    "\n",
    "Try writing a function that will compute the factorial of a number."
   ]
  },
  {
   "cell_type": "code",
   "execution_count": 10,
   "metadata": {
    "collapsed": false,
    "slideshow": {
     "slide_type": "fragment"
    }
   },
   "outputs": [
    {
     "data": {
      "text/plain": [
       "120"
      ]
     },
     "execution_count": 10,
     "metadata": {},
     "output_type": "execute_result"
    }
   ],
   "source": [
    "# A:\n",
    "def fact(integer):\n",
    "    answer = 1\n",
    "    while integer > 1:\n",
    "        answer *= integer\n",
    "        integer -= 1\n",
    "    return answer\n",
    "fact(5)"
   ]
  },
  {
   "cell_type": "markdown",
   "metadata": {
    "slideshow": {
     "slide_type": "slide"
    }
   },
   "source": [
    "<a id='combination'></a>\n",
    "\n",
    "### Combinations\n",
    "\n",
    "---\n",
    "\n",
    "Like permutations, combinations are arrangements of objects, but in the case of combinations the order of the objects does not matter.\n",
    "\n",
    "With a set of items of size $n$ and arrangements of length $k$, the combinations are calculated as\n",
    "\n",
    "### $$ \\text{combinations}(n, k) = \\frac{ \\text{permutations}(n,k) }{ \\text{permutations}(k, k) } = \\frac{n!}{(n-k)!k!}$$\n",
    "\n",
    "An intuitive way to think about this is that we take the number of permutations, then we divide by the number of possible orderings we could have in the available slots $k$."
   ]
  },
  {
   "cell_type": "markdown",
   "metadata": {
    "slideshow": {
     "slide_type": "fragment"
    }
   },
   "source": [
    "**Q: How many possible 5 card hands are there with a deck of 52 cards?**"
   ]
  },
  {
   "cell_type": "code",
   "execution_count": 13,
   "metadata": {
    "collapsed": false,
    "slideshow": {
     "slide_type": "fragment"
    }
   },
   "outputs": [
    {
     "name": "stdout",
     "output_type": "stream",
     "text": [
      "2598960.0\n",
      "2598960.0\n"
     ]
    }
   ],
   "source": [
    "# A:\n",
    "from math import factorial\n",
    "print (factorial(52) / (factorial(47) * factorial(5)))\n",
    "print (52 * 51 * 50 * 49 * 48 / 120)"
   ]
  },
  {
   "cell_type": "markdown",
   "metadata": {
    "slideshow": {
     "slide_type": "slide"
    }
   },
   "source": [
    "<a id='practice'></a>\n",
    "\n",
    "### Practice Problems with Counting, Permutations, and Combinations\n",
    "\n",
    "---\n",
    "\n",
    "A restaurant has 22 employees, including:\n",
    "\n",
    "- 6 chefs\n",
    "- 5 waiters\n",
    "- 7 busboys \n",
    "\n",
    "The owner has requested a few things from you the manager:\n",
    "\n",
    "1. A private party is coming on Tuesday and wants to know how many teams of 1 chef and 2 waiters can be formed?\n",
    "2. Each busboy works just one day of the week. He wants to know how many different versions of the weekly busboy assignments there can be. \n",
    "3. He wants his favorite waiter to serve him and his wife for their anniversary on Sunday, along with 2 other waiters.  How many teams of 3 waiters can serve him?"
   ]
  },
  {
   "cell_type": "code",
   "execution_count": 38,
   "metadata": {
    "collapsed": false,
    "slideshow": {
     "slide_type": "fragment"
    }
   },
   "outputs": [
    {
     "name": "stdout",
     "output_type": "stream",
     "text": [
      "60.0\n"
     ]
    }
   ],
   "source": [
    "# A.1: Multiply the number of choices of 1 chef by\n",
    "# the number of choices of 2 waiters\n",
    "print (6 * factorial(5) / (factorial(3) * factorial(2)))"
   ]
  },
  {
   "cell_type": "code",
   "execution_count": 16,
   "metadata": {
    "collapsed": false,
    "slideshow": {
     "slide_type": "fragment"
    }
   },
   "outputs": [
    {
     "name": "stdout",
     "output_type": "stream",
     "text": [
      "5040\n"
     ]
    }
   ],
   "source": [
    "# A.2: The order is important as each day of the week is different.\n",
    "# Therefore, use permutations\n",
    "print (factorial(7))"
   ]
  },
  {
   "cell_type": "code",
   "execution_count": 17,
   "metadata": {
    "collapsed": false,
    "slideshow": {
     "slide_type": "fragment"
    }
   },
   "outputs": [
    {
     "name": "stdout",
     "output_type": "stream",
     "text": [
      "6.0\n"
     ]
    }
   ],
   "source": [
    "# A.3: This is really asking how many teams of 2 waiters\n",
    "# are possible from the remaining 4. Order doesn't matter.\n",
    "print (factorial(4) / (factorial(2) * factorial(2)))"
   ]
  },
  {
   "cell_type": "markdown",
   "metadata": {
    "slideshow": {
     "slide_type": "slide"
    }
   },
   "source": [
    "**Q: What is the probability that you are dealt 2 cards and they turn out to both be aces from a 52-card deck?**"
   ]
  },
  {
   "cell_type": "code",
   "execution_count": 19,
   "metadata": {
    "collapsed": false,
    "slideshow": {
     "slide_type": "fragment"
    }
   },
   "outputs": [
    {
     "name": "stdout",
     "output_type": "stream",
     "text": [
      "0.004524886877828055\n",
      "0.004524886877828055\n"
     ]
    }
   ],
   "source": [
    "# A: Prob of the first being an ace times the second being an ace\n",
    "print (4/52 * 3/51)\n",
    "# Or, the no. of ways of getting two aces divided by total combinations\n",
    "print ((4*3/2)/(52*51/2))"
   ]
  },
  {
   "cell_type": "markdown",
   "metadata": {
    "slideshow": {
     "slide_type": "slide"
    }
   },
   "source": [
    "**Q: What is the probability of getting 2 queens and 3 kings in a 5-card hand?**"
   ]
  },
  {
   "cell_type": "code",
   "execution_count": 37,
   "metadata": {
    "collapsed": false,
    "slideshow": {
     "slide_type": "fragment"
    }
   },
   "outputs": [
    {
     "name": "stdout",
     "output_type": "stream",
     "text": [
      "6.0\n",
      "4.0\n",
      "2598960.0\n",
      "9.23446301597562e-06\n",
      "9.23446301597562e-06\n"
     ]
    }
   ],
   "source": [
    "# A: The no. of ways of getting 2 queens and 3 kings divided\n",
    "# by the total combinations.\n",
    "qu2 = (factorial(4) / (factorial(2) * factorial(2)))\n",
    "print (qu2)\n",
    "k3 = (factorial(4) / (factorial(3) * factorial(1)))\n",
    "print (k3)\n",
    "cards5 = (factorial(52) / (factorial(47) * factorial(5)))\n",
    "print (cards5)\n",
    "total = (qu2 * k3 / cards5)\n",
    "print (total)\n",
    "print ((factorial(4) / (factorial(2) * factorial(2))) *\n",
    "       (factorial(4) / (factorial(3) * factorial(1))) /\n",
    "       (factorial(52) / (factorial(47) * factorial(5))))"
   ]
  },
  {
   "cell_type": "markdown",
   "metadata": {
    "slideshow": {
     "slide_type": "slide"
    }
   },
   "source": [
    "**Q: For 10 coin-flips, print out the probability of getting 0 heads through 10 heads.**\n",
    "\n",
    "Also print out the sum of the probabilities."
   ]
  },
  {
   "cell_type": "code",
   "execution_count": 54,
   "metadata": {
    "collapsed": false,
    "slideshow": {
     "slide_type": "fragment"
    }
   },
   "outputs": [
    {
     "name": "stdout",
     "output_type": "stream",
     "text": [
      "Heads: 0 P = 0.0009765625\n",
      "Heads: 1 P = 0.009765625\n",
      "Heads: 2 P = 0.0439453125\n",
      "Heads: 3 P = 0.1171875\n",
      "Heads: 4 P = 0.205078125\n",
      "Heads: 5 P = 0.24609375\n",
      "Heads: 6 P = 0.205078125\n",
      "Heads: 7 P = 0.1171875\n",
      "Heads: 8 P = 0.0439453125\n",
      "Heads: 9 P = 0.009765625\n",
      "Heads: 10 P = 0.0009765625\n",
      "Total probability = 1.0\n",
      "0.375\n",
      "3.0\n"
     ]
    }
   ],
   "source": [
    "# A:\n",
    "def comb(x, n):\n",
    "    return (factorial(x) / (factorial(n) * factorial(x-n)))\n",
    "def coin_flip(x, n):\n",
    "    total_combs = 2**x\n",
    "    prob = comb(x, n) / total_combs\n",
    "    return prob\n",
    "\n",
    "sum_prob = []\n",
    "for i in range(11):\n",
    "    ind_prob = coin_flip(10,i)\n",
    "    print (\"Heads:\", i, \"P =\", ind_prob)\n",
    "    sum_prob.append(ind_prob)\n",
    "print (\"Total probability =\", sum(sum_prob))\n",
    "print (coin_flip(3,1))\n",
    "print (comb(3, 1))"
   ]
  },
  {
   "cell_type": "markdown",
   "metadata": {
    "slideshow": {
     "slide_type": "slide"
    }
   },
   "source": [
    "#### Distinguishable urns and distinguishable balls\n",
    "\n",
    "---\n",
    "\n",
    "In this scenario, our urns are labeled and the balls are labeled. Distinct arrangements are affected by the labeling. For example:\n",
    "\n",
    "1. It matters whether urn A has 1 ball vs. urn B has 1 ball (distinguishable urns).\n",
    "2. It matters whether ball X was placed in urn A vs. ball Y was placed in urn A (distinguishable balls).\n",
    "\n",
    "Since we have an option of 3 urns for each ball, we can calculate the arrangements with:\n",
    "\n",
    "`(3 urns) * (3 urns) == (3 urns)**(2 balls) == 9`\n"
   ]
  },
  {
   "cell_type": "markdown",
   "metadata": {
    "slideshow": {
     "slide_type": "slide"
    }
   },
   "source": [
    "#### Distinguishable urns and indistinguishable balls\n",
    "\n",
    "---\n",
    "\n",
    "Now our 3 urns are still labeled, but the balls are indistinguishable – there is no way to tell them apart in arrangements. We can only tell arrangements apart by how many balls are in each labeled urn.\n",
    "\n",
    "Imagine our balls are represented by the character `o`. We also have \"separator\" character `|` that divides the balls between urns. So if all balls were in the first urn it would look like this:\n",
    "\n",
    "    'oo||'\n",
    "    \n",
    "Or one ball in the first and one in the second:\n",
    "    \n",
    "    'o|o|'\n",
    "    \n",
    "Or one in the first and one in the third:\n",
    "\n",
    "    'o||o'\n",
    "    \n",
    "To find all the distinct arrangements of the 2 indistinguishable balls among the 3 distinguishable urns, we need to find all the combinations of the separators in the string, or `comb(4, 2)`.\n",
    "\n",
    "The general formula for the arrangements of $n$ indistinguishable items among $k$ distinguishable places is:\n",
    "\n",
    "### $$ \\text{combinations}(n+k-1, k-1)$$\n"
   ]
  },
  {
   "cell_type": "markdown",
   "metadata": {
    "slideshow": {
     "slide_type": "slide"
    }
   },
   "source": [
    "**Q: Suppose you have a game where you can toss a ball and it will land in one of 5 buckets.**\n",
    "\n",
    "**You toss 2 balls and they each land in a bucket. If the balls are indistinguishable from each other, how many different outcomes (distributions of balls in buckets) are there?**\n"
   ]
  },
  {
   "cell_type": "markdown",
   "metadata": {
    "slideshow": {
     "slide_type": "fragment"
    }
   },
   "source": [
    "\n",
    "    1.|BB |  2.|   |  3.|   |  4.|   |  5.|   |\n",
    "    1.|   |  2.|BB |  3.|   |  4.|   |  5.|   |\n",
    "    1.|   |  2.|   |  3.|BB |  4.|   |  5.|   |\n",
    "    1.|   |  2.|   |  3.|   |  4.|BB |  5.|   |\n",
    "    1.|   |  2.|   |  3.|   |  4.|   |  5.|BB |\n",
    "    1.|B  |  2.|B  |  3.|   |  4.|   |  5.|   |\n",
    "    1.|B  |  2.|   |  3.|B  |  4.|   |  5.|   |\n",
    "    1.|B  |  2.|   |  3.|   |  4.|B  |  5.|   |\n",
    "    1.|B  |  2.|   |  3.|   |  4.|   |  5.|B  |\n",
    "    1.|   |  2.|B  |  3.|B  |  4.|   |  5.|   |\n",
    "    1.|   |  2.|B  |  3.|   |  4.|B  |  5.|   |\n",
    "    1.|   |  2.|B  |  3.|   |  4.|   |  5.|B  |\n",
    "    1.|   |  2.|   |  3.|B  |  4.|B  |  5.|   |\n",
    "    1.|   |  2.|   |  3.|B  |  4.|   |  5.|B  |\n",
    "    1.|   |  2.|   |  3.|   |  4.|B  |  5.|B  |\n",
    "    "
   ]
  },
  {
   "cell_type": "code",
   "execution_count": 55,
   "metadata": {
    "collapsed": false,
    "slideshow": {
     "slide_type": "fragment"
    }
   },
   "outputs": [
    {
     "data": {
      "text/plain": [
       "15.0"
      ]
     },
     "execution_count": 55,
     "metadata": {},
     "output_type": "execute_result"
    }
   ],
   "source": [
    "# A: \n",
    "factorial(5+2-1) / (factorial(5-1) * factorial (2))"
   ]
  },
  {
   "cell_type": "markdown",
   "metadata": {
    "slideshow": {
     "slide_type": "slide"
    }
   },
   "source": [
    "**Q: How many solutions are there to the formula:**\n",
    "\n",
    "$X_1 + X_2 + X_3 + X_4 = 15$\n",
    "\n",
    "Where the order of numbers matters?"
   ]
  },
  {
   "cell_type": "code",
   "execution_count": 57,
   "metadata": {
    "collapsed": false,
    "slideshow": {
     "slide_type": "fragment"
    }
   },
   "outputs": [
    {
     "name": "stdout",
     "output_type": "stream",
     "text": [
      "816.0\n"
     ]
    }
   ],
   "source": [
    "# A: Like 15 indistinguishable balls going into 4 distinguishable urns\n",
    "solutions = factorial(15+4-1) / (factorial(4-1) * factorial (15))\n",
    "print (solutions)"
   ]
  },
  {
   "cell_type": "markdown",
   "metadata": {
    "slideshow": {
     "slide_type": "slide"
    }
   },
   "source": [
    "<a id='further_reading'></a>\n",
    "\n",
    "### Further Reading\n",
    "\n",
    "---\n",
    "\n",
    "There are two more scenarios we did not cover above:\n",
    "- Indistinguishable urns and distinguishable balls\n",
    "- Indistinguishable urns and indistinguishable balls\n",
    "\n",
    "These are more complex and beyond the scope of this lecture, but if their solutions are of interest to you here are some additional resources and reading:\n",
    "\n",
    "\n",
    "[Distributing balls into boxes 1](http://www.careerbless.com/aptitude/qa/permutations_combinations_imp7.php#p2)\n",
    "\n",
    "[Distributing balls into boxes 2](http://www.elcamino.edu/faculty/gfry/210/DistributeBallsBoxes.pdf)\n",
    "\n",
    "[Stirling numbers of the second kind](https://en.wikipedia.org/wiki/Stirling_numbers_of_the_second_kind)\n",
    "\n",
    "[Distinct objects into identical bins](https://brilliant.org/wiki/distinct-objects-into-identical-bins/)\n",
    "\n"
   ]
  }
 ],
 "metadata": {
  "kernelspec": {
   "display_name": "Python 3",
   "language": "python",
   "name": "python3"
  },
  "language_info": {
   "codemirror_mode": {
    "name": "ipython",
    "version": 3
   },
   "file_extension": ".py",
   "mimetype": "text/x-python",
   "name": "python",
   "nbconvert_exporter": "python",
   "pygments_lexer": "ipython3",
   "version": "3.6.0"
  }
 },
 "nbformat": 4,
 "nbformat_minor": 0
}
