{
 "cells": [
  {
   "cell_type": "markdown",
   "metadata": {},
   "source": [
    "<img src=\"http://imgur.com/1ZcRyrc.png\" style=\"float: left; margin: 20px; height: 55px\">\n",
    "\n",
    "## List Comprehensions Independent Practice\n",
    "\n",
    "_Author: Kiefer Katovich | DSI-SF_\n",
    "\n",
    "---\n",
    "\n",
    "\n",
    "Each problem below should be completed with a standard for-loop pattern as well as a single list (or dictionary) comprehension. This will give you a feel for the differences and similarities between the two.\n",
    "\n",
    "Questions increase in difficulty as you go down the problem set.\n",
    "\n",
    "---\n",
    "\n",
    "### Load useful packages:"
   ]
  },
  {
   "cell_type": "code",
   "execution_count": 1,
   "metadata": {
    "collapsed": true
   },
   "outputs": [],
   "source": [
    "import string\n",
    "import numpy as np"
   ]
  },
  {
   "cell_type": "markdown",
   "metadata": {},
   "source": [
    "---\n",
    "\n",
    "### 1. Convert each string from lowercase to uppercase\n",
    "\n",
    "Python strings can be turned to uppercase by appending: **`.upper()`**. The inverse to lowercase can be done with **`.lower()`**.\n",
    "\n",
    "```python\n",
    "'yellow'.upper()\n",
    "'YELLOW'\n",
    "'GREEN'.lower()\n",
    "'green'\n",
    "```\n",
    "\n",
    "#### 1.1 With a for-loop"
   ]
  },
  {
   "cell_type": "code",
   "execution_count": 4,
   "metadata": {
    "collapsed": false
   },
   "outputs": [],
   "source": [
    "strings = ['black','Yellow','ReD','GreeN','BLUe']"
   ]
  },
  {
   "cell_type": "code",
   "execution_count": 10,
   "metadata": {
    "collapsed": false
   },
   "outputs": [
    {
     "name": "stdout",
     "output_type": "stream",
     "text": [
      "['black', 'yellow', 'red', 'green', 'blue']\n",
      "['BLACK', 'YELLOW', 'RED', 'GREEN', 'BLUE']\n"
     ]
    }
   ],
   "source": [
    "strings_lower = []\n",
    "strings_upper = []\n",
    "for i in strings:\n",
    "    strings_lower.append(i.lower())\n",
    "    strings_upper.append(i.upper())\n",
    "print (strings_lower)\n",
    "print (strings_upper)"
   ]
  },
  {
   "cell_type": "markdown",
   "metadata": {},
   "source": [
    "#### 1.2 With a list comprehension"
   ]
  },
  {
   "cell_type": "code",
   "execution_count": 13,
   "metadata": {
    "collapsed": false
   },
   "outputs": [
    {
     "name": "stdout",
     "output_type": "stream",
     "text": [
      "['BLACK', 'YELLOW', 'RED', 'GREEN', 'BLUE']\n"
     ]
    }
   ],
   "source": [
    "strings_upper = [i.upper() for i in strings]\n",
    "print (strings_upper)"
   ]
  },
  {
   "cell_type": "markdown",
   "metadata": {},
   "source": [
    "---\n",
    "\n",
    "### 2. Take the numbers in the list and keep only the even numbers\n",
    "\n",
    "Recall that the modulo operator **%** can be used to calculate the remainder. This is useful for finding even and odd numbers.\n",
    "\n",
    "```python\n",
    "print 5 % 2\n",
    "1\n",
    "print 4 % 2\n",
    "0\n",
    "```\n",
    "\n",
    "#### 2.1 With a for-loop"
   ]
  },
  {
   "cell_type": "code",
   "execution_count": 15,
   "metadata": {
    "collapsed": false
   },
   "outputs": [
    {
     "name": "stdout",
     "output_type": "stream",
     "text": [
      "[2, 62, 34, 12, 44, 12]\n"
     ]
    }
   ],
   "source": [
    "n = [1, 2, 7, 21, 3, 1, 62, 3, 34, 12, 73, 44, 12, 11, 9]\n",
    "evens = []\n",
    "for i in n:\n",
    "    if i % 2 == 0:\n",
    "        evens.append(i)\n",
    "print (evens)"
   ]
  },
  {
   "cell_type": "markdown",
   "metadata": {},
   "source": [
    "#### 2.2 With a list comprehension"
   ]
  },
  {
   "cell_type": "code",
   "execution_count": 17,
   "metadata": {
    "collapsed": false
   },
   "outputs": [
    {
     "name": "stdout",
     "output_type": "stream",
     "text": [
      "[2, 62, 34, 12, 44, 12]\n"
     ]
    }
   ],
   "source": [
    "evens = [i for i in n if i % 2 == 0]\n",
    "print (evens)"
   ]
  },
  {
   "cell_type": "markdown",
   "metadata": {},
   "source": [
    "---\n",
    "\n",
    "### 3. Convert to 'v' if a character is a vowel and 'c' if a consonant, otherwise convert to '?'\n",
    "\n",
    "I've conveniently defined the vowels and lowercase alphabet below. The characters to convert are in the `characters` list."
   ]
  },
  {
   "cell_type": "code",
   "execution_count": 19,
   "metadata": {
    "collapsed": false
   },
   "outputs": [],
   "source": [
    "import string\n",
    "alphabet = list(string.ascii_lowercase)\n",
    "vowels = list('aeiou')\n",
    "\n",
    "characters = ['a','f',None,'k','l','1',12,'e','e',-1,'i','b','p']"
   ]
  },
  {
   "cell_type": "markdown",
   "metadata": {},
   "source": [
    "#### 3.1 With a for-loop"
   ]
  },
  {
   "cell_type": "code",
   "execution_count": 21,
   "metadata": {
    "collapsed": false
   },
   "outputs": [
    {
     "name": "stdout",
     "output_type": "stream",
     "text": [
      "['v', 'c', '?', 'c', 'c', '?', '?', 'v', 'v', '?', 'v', 'c', 'c']\n"
     ]
    }
   ],
   "source": [
    "new_char = []\n",
    "for item in characters:\n",
    "    if item in alphabet:\n",
    "        if item in vowels:\n",
    "            new_char.append('v')\n",
    "        else:\n",
    "            new_char.append('c')\n",
    "    else:\n",
    "        new_char.append('?')\n",
    "print (new_char)"
   ]
  },
  {
   "cell_type": "markdown",
   "metadata": {},
   "source": [
    "#### 3.2 With a list comprehension"
   ]
  },
  {
   "cell_type": "code",
   "execution_count": 23,
   "metadata": {
    "collapsed": false
   },
   "outputs": [
    {
     "name": "stdout",
     "output_type": "stream",
     "text": [
      "['v', 'c', '?', 'c', 'c', '?', '?', 'v', 'v', '?', 'v', 'c', 'c']\n"
     ]
    }
   ],
   "source": [
    "new_char = ['v' if i in vowels else 'c' if i in alphabet else '?' for i in characters]\n",
    "print (new_char)"
   ]
  },
  {
   "cell_type": "markdown",
   "metadata": {},
   "source": [
    "---\n",
    "\n",
    "### 4. Calculate the means of the numbers in each list that lie between 0 and 100 (inclusive)\n",
    "\n",
    "In other words, for each list inside of the `number_sets` list, calculate the mean of the numbers in the list that lie between 0 and 100.\n",
    "\n",
    "For example:\n",
    "\n",
    "```python\n",
    "a_list = [100, 1000, 99, 2, 0, -1]\n",
    "# before computing the mean, restrict to numbers in range [0, 100]\n",
    "a_list_restricted = [100, 99, 2, 0]\n",
    "# then compute the mean for that list\n",
    "a_list_mean = np.mean(a_list_restricted)\n",
    "```"
   ]
  },
  {
   "cell_type": "code",
   "execution_count": 25,
   "metadata": {
    "collapsed": false
   },
   "outputs": [],
   "source": [
    "number_sets = [[1,50,-40,20,90], [1004,1002,101,-90,40,34], [-1,-2,34,55,77,109]]"
   ]
  },
  {
   "cell_type": "markdown",
   "metadata": {},
   "source": [
    "#### 4.1 With a for-loop"
   ]
  },
  {
   "cell_type": "code",
   "execution_count": 28,
   "metadata": {
    "collapsed": false
   },
   "outputs": [
    {
     "name": "stdout",
     "output_type": "stream",
     "text": [
      "[40.25, 37.0, 55.333333333333336]\n"
     ]
    }
   ],
   "source": [
    "import numpy as np\n",
    "set_means = []\n",
    "for set in number_sets:\n",
    "    new_set = []\n",
    "    for i in set:\n",
    "        if i >= 0 and i <= 100:\n",
    "            new_set.append(i)\n",
    "    set_means.append(np.mean(new_set))\n",
    "print (set_means)"
   ]
  },
  {
   "cell_type": "markdown",
   "metadata": {},
   "source": [
    "#### 4.2 With a list comprehension"
   ]
  },
  {
   "cell_type": "code",
   "execution_count": null,
   "metadata": {
    "collapsed": false
   },
   "outputs": [],
   "source": []
  },
  {
   "cell_type": "markdown",
   "metadata": {},
   "source": [
    "---\n",
    "\n",
    "### 5. Iterate through lists at the same time, concatenating strings from each\n",
    "\n",
    "**While iterating through both lists at the same time:**\n",
    "\n",
    "1. If the current index of the lists is even, join the string elements like: 'item1 item2'. \n",
    "2. If the current index of the lists is odd, join the string elements like: 'item2 item1'. \n",
    "3. Output a single list with the concatenated strings as elements.\n",
    "\n",
    "**item1** refers to the string at a particular index from the first list, and **item2** refers to the string from that index in the second list.\n",
    "\n",
    "You can use the handy **`zip(list1, list2)`** function to iterate through lists at the same time. For example:\n",
    "\n",
    "```python\n",
    "list1 = [1,2,3,4]\n",
    "list2 = ['A','B','C','D']\n",
    "zipped = zip(list1, list2)\n",
    "print zipped\n",
    "[(1, 'A'), (2, 'B'), (3, 'C'), (4, 'D')]\n",
    "```\n",
    "\n",
    "The **`enumerate()`** function will also come in handy!"
   ]
  },
  {
   "cell_type": "code",
   "execution_count": 15,
   "metadata": {
    "collapsed": true
   },
   "outputs": [],
   "source": [
    "strings1 = ['alpha','bravo','charlie','delta']\n",
    "strings2 = ['echo','foxtrot','golf','hotel']"
   ]
  },
  {
   "cell_type": "markdown",
   "metadata": {},
   "source": [
    "#### 5.1 With a for-loop"
   ]
  },
  {
   "cell_type": "code",
   "execution_count": null,
   "metadata": {
    "collapsed": false
   },
   "outputs": [],
   "source": []
  },
  {
   "cell_type": "markdown",
   "metadata": {},
   "source": [
    "#### 5.2 With a list comprehension"
   ]
  },
  {
   "cell_type": "code",
   "execution_count": null,
   "metadata": {
    "collapsed": false
   },
   "outputs": [],
   "source": []
  },
  {
   "cell_type": "markdown",
   "metadata": {},
   "source": [
    "---\n",
    "\n",
    "### 6. Dictionary comprehensions: create data dictionary from lists\n",
    "\n",
    "1. The keys will be the items in the `columns` list.\n",
    "2. The values for the column keys will be the number referred to by the key (given to you in the `values` list), times the numbers in the `multiples` list.\n",
    "\n",
    "For example, if I had columns `'two'` and `'three'`, the output would be:\n",
    "\n",
    "```python\n",
    "columns = ['two','three']\n",
    "values = [2, 3]\n",
    "multiples = [1,2,3,4,5]\n",
    "# ...code to generate output below...\n",
    "{\n",
    " 'two':[2,4,6,8,10],\n",
    " 'three':[3,6,9,12,15]\n",
    "}\n",
    "\n",
    "```\n",
    "\n",
    "from the columns and associated values where each column is the first five multiples of the values:"
   ]
  },
  {
   "cell_type": "code",
   "execution_count": 22,
   "metadata": {
    "collapsed": true
   },
   "outputs": [],
   "source": [
    "columns = ['five','seven','twelve']\n",
    "values = [5, 7, 12]\n",
    "multiples = [1, 2, 3, 4, 5]"
   ]
  },
  {
   "cell_type": "markdown",
   "metadata": {},
   "source": [
    "#### 6.1 With a for-loop"
   ]
  },
  {
   "cell_type": "code",
   "execution_count": null,
   "metadata": {
    "collapsed": false
   },
   "outputs": [],
   "source": []
  },
  {
   "cell_type": "markdown",
   "metadata": {},
   "source": [
    "#### 6.2 With a dictionary comprehension"
   ]
  },
  {
   "cell_type": "code",
   "execution_count": null,
   "metadata": {
    "collapsed": false
   },
   "outputs": [],
   "source": []
  },
  {
   "cell_type": "markdown",
   "metadata": {},
   "source": [
    "---\n",
    "\n",
    "### 7. [Challenge] Manually calculate the median of the first n numbers (from list \"N\") in list \"X\"\n",
    "\n",
    "You will:\n",
    "\n",
    "1. Iterate through the values in list N\n",
    "2. For the current value in N, calculate the median of the values in X up to the length specified by the value in N.\n",
    "3. Return a list (same length as N) with the calculated medians.\n",
    "\n",
    "So, if the current value in `N` was 10, you would take the first 10 elements from X and calculate the median of those elements.\n",
    "\n",
    "**NOTE: the median is calculated differently for even and odd numbered lists!**\n",
    "\n",
    "1. For **odd-length** lists, the median is the value in the middle.\n",
    "> ex: median of `[1,2,3,4,5]` is `3`\n",
    " \n",
    "2. For **even-length** lists, the median is the average of the two middle-most values:\n",
    "> ex: median of `[1,2,3,10,11,12]` is `6.5`, `(3+10)/2.`"
   ]
  },
  {
   "cell_type": "code",
   "execution_count": 46,
   "metadata": {
    "collapsed": true
   },
   "outputs": [],
   "source": [
    "N = [12, 5, 6, 8, 10]\n",
    "X = [1, 2, 3, 4, 5, 6, 7, 8, 9, 10, 11, 12, 13, 14, 15]"
   ]
  },
  {
   "cell_type": "code",
   "execution_count": 30,
   "metadata": {
    "collapsed": false
   },
   "outputs": [],
   "source": [
    "from math import ceil, floor"
   ]
  },
  {
   "cell_type": "markdown",
   "metadata": {},
   "source": [
    "#### 7.1 Using loops"
   ]
  },
  {
   "cell_type": "code",
   "execution_count": null,
   "metadata": {
    "collapsed": false
   },
   "outputs": [],
   "source": []
  },
  {
   "cell_type": "markdown",
   "metadata": {},
   "source": [
    "#### 7.2 Using list comprehensions"
   ]
  },
  {
   "cell_type": "code",
   "execution_count": null,
   "metadata": {
    "collapsed": false
   },
   "outputs": [],
   "source": []
  },
  {
   "cell_type": "markdown",
   "metadata": {},
   "source": [
    "---\n",
    "\n",
    "### 8. [Challenge] combine into a flat list: \n",
    "\n",
    "1. Iterate the elements of the first list `a`\n",
    "2. Multiply by them by the elements in the second list `b`\n",
    "3. Then subtract the elements in a third list `c`\n",
    "\n",
    "e.g:\n",
    "\n",
    "```python\n",
    "a = [1,2]\n",
    "b = [0,1]\n",
    "c = [1,2]\n",
    "output = [0,0,0,-1,0,0,1,0]\n",
    "```"
   ]
  },
  {
   "cell_type": "code",
   "execution_count": 9,
   "metadata": {
    "collapsed": true
   },
   "outputs": [],
   "source": [
    "a = [9,7,5]\n",
    "b = [10,5,1]\n",
    "c = [1,2,3]"
   ]
  },
  {
   "cell_type": "markdown",
   "metadata": {},
   "source": [
    "#### 8.1 With loops"
   ]
  },
  {
   "cell_type": "code",
   "execution_count": null,
   "metadata": {
    "collapsed": false
   },
   "outputs": [],
   "source": []
  },
  {
   "cell_type": "markdown",
   "metadata": {},
   "source": [
    "#### 8.2 With list comprehensions"
   ]
  },
  {
   "cell_type": "code",
   "execution_count": null,
   "metadata": {
    "collapsed": false
   },
   "outputs": [],
   "source": []
  }
 ],
 "metadata": {
  "kernelspec": {
   "display_name": "Python 3",
   "language": "python",
   "name": "python3"
  },
  "language_info": {
   "codemirror_mode": {
    "name": "ipython",
    "version": 3
   },
   "file_extension": ".py",
   "mimetype": "text/x-python",
   "name": "python",
   "nbconvert_exporter": "python",
   "pygments_lexer": "ipython3",
   "version": "3.6.0"
  }
 },
 "nbformat": 4,
 "nbformat_minor": 0
}
